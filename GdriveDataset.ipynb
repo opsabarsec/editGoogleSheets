{
 "cells": [
  {
   "cell_type": "markdown",
   "id": "66c3132f-df48-4406-a2cb-13e485701973",
   "metadata": {},
   "source": [
    "# Simple correlation Project - data sourced from Google drive spreadsheet\n",
    "\n",
    "\n",
    "This notebook presents a simple example of code for reading and writing data to a spreadsheet on Google drive.\n",
    "It is needed to share results to coleagues who would like to use spreadsheets only, rather than Python dataframes\n",
    "\n",
    "\n",
    "It is necessary to enable the permission in the drive of course for the spreadsheets you access, or this code will fail. \n",
    "\n",
    "A simple exercise is illustrated: reading data. Appending new data to those. And writing new data to another sheet."
   ]
  },
  {
   "cell_type": "markdown",
   "id": "be28ee9a-de4b-4fa5-9209-1cd93254264a",
   "metadata": {},
   "source": [
    "## Import libraries"
   ]
  },
  {
   "cell_type": "code",
   "execution_count": 1,
   "id": "4c3d9a1a-f7f8-446b-bfe9-f623b3645fa8",
   "metadata": {},
   "outputs": [
    {
     "name": "stdout",
     "output_type": "stream",
     "text": [
      "Collecting gspread\n",
      "  Downloading gspread-5.3.2-py3-none-any.whl (34 kB)\n",
      "Requirement already satisfied: google-auth>=1.12.0 in /home/marco/anaconda3/lib/python3.9/site-packages (from gspread) (1.33.0)\n",
      "Collecting google-auth-oauthlib>=0.4.1\n",
      "  Downloading google_auth_oauthlib-0.5.1-py2.py3-none-any.whl (19 kB)\n",
      "Requirement already satisfied: pyasn1-modules>=0.2.1 in /home/marco/anaconda3/lib/python3.9/site-packages (from google-auth>=1.12.0->gspread) (0.2.8)\n",
      "Requirement already satisfied: cachetools<5.0,>=2.0.0 in /home/marco/anaconda3/lib/python3.9/site-packages (from google-auth>=1.12.0->gspread) (4.2.2)\n",
      "Requirement already satisfied: six>=1.9.0 in /home/marco/anaconda3/lib/python3.9/site-packages (from google-auth>=1.12.0->gspread) (1.16.0)\n",
      "Requirement already satisfied: rsa<5,>=3.1.4 in /home/marco/anaconda3/lib/python3.9/site-packages (from google-auth>=1.12.0->gspread) (4.7.2)\n",
      "Requirement already satisfied: setuptools>=40.3.0 in /home/marco/anaconda3/lib/python3.9/site-packages (from google-auth>=1.12.0->gspread) (61.2.0)\n",
      "Collecting requests-oauthlib>=0.7.0\n",
      "  Downloading requests_oauthlib-1.3.1-py2.py3-none-any.whl (23 kB)\n",
      "Requirement already satisfied: pyasn1<0.5.0,>=0.4.6 in /home/marco/anaconda3/lib/python3.9/site-packages (from pyasn1-modules>=0.2.1->google-auth>=1.12.0->gspread) (0.4.8)\n",
      "Collecting oauthlib>=3.0.0\n",
      "  Downloading oauthlib-3.2.0-py3-none-any.whl (151 kB)\n",
      "\u001b[K     |████████████████████████████████| 151 kB 6.2 MB/s eta 0:00:01\n",
      "\u001b[?25hRequirement already satisfied: requests>=2.0.0 in /home/marco/anaconda3/lib/python3.9/site-packages (from requests-oauthlib>=0.7.0->google-auth-oauthlib>=0.4.1->gspread) (2.27.1)\n",
      "Requirement already satisfied: idna<4,>=2.5 in /home/marco/anaconda3/lib/python3.9/site-packages (from requests>=2.0.0->requests-oauthlib>=0.7.0->google-auth-oauthlib>=0.4.1->gspread) (3.3)\n",
      "Requirement already satisfied: certifi>=2017.4.17 in /home/marco/anaconda3/lib/python3.9/site-packages (from requests>=2.0.0->requests-oauthlib>=0.7.0->google-auth-oauthlib>=0.4.1->gspread) (2021.10.8)\n",
      "Requirement already satisfied: urllib3<1.27,>=1.21.1 in /home/marco/anaconda3/lib/python3.9/site-packages (from requests>=2.0.0->requests-oauthlib>=0.7.0->google-auth-oauthlib>=0.4.1->gspread) (1.26.9)\n",
      "Requirement already satisfied: charset-normalizer~=2.0.0 in /home/marco/anaconda3/lib/python3.9/site-packages (from requests>=2.0.0->requests-oauthlib>=0.7.0->google-auth-oauthlib>=0.4.1->gspread) (2.0.4)\n",
      "Installing collected packages: oauthlib, requests-oauthlib, google-auth-oauthlib, gspread\n",
      "Successfully installed google-auth-oauthlib-0.5.1 gspread-5.3.2 oauthlib-3.2.0 requests-oauthlib-1.3.1\n",
      "Collecting oauth2client\n",
      "  Downloading oauth2client-4.1.3-py2.py3-none-any.whl (98 kB)\n",
      "\u001b[K     |████████████████████████████████| 98 kB 3.7 MB/s eta 0:00:011\n",
      "\u001b[?25hRequirement already satisfied: six>=1.6.1 in /home/marco/anaconda3/lib/python3.9/site-packages (from oauth2client) (1.16.0)\n",
      "Collecting httplib2>=0.9.1\n",
      "  Downloading httplib2-0.20.4-py3-none-any.whl (96 kB)\n",
      "\u001b[K     |████████████████████████████████| 96 kB 4.7 MB/s eta 0:00:011\n",
      "\u001b[?25hRequirement already satisfied: pyasn1-modules>=0.0.5 in /home/marco/anaconda3/lib/python3.9/site-packages (from oauth2client) (0.2.8)\n",
      "Requirement already satisfied: pyasn1>=0.1.7 in /home/marco/anaconda3/lib/python3.9/site-packages (from oauth2client) (0.4.8)\n",
      "Requirement already satisfied: rsa>=3.1.4 in /home/marco/anaconda3/lib/python3.9/site-packages (from oauth2client) (4.7.2)\n",
      "Requirement already satisfied: pyparsing!=3.0.0,!=3.0.1,!=3.0.2,!=3.0.3,<4,>=2.4.2 in /home/marco/anaconda3/lib/python3.9/site-packages (from httplib2>=0.9.1->oauth2client) (3.0.4)\n",
      "Installing collected packages: httplib2, oauth2client\n",
      "Successfully installed httplib2-0.20.4 oauth2client-4.1.3\n"
     ]
    }
   ],
   "source": [
    "!pip install gspread\n",
    "!pip install oauth2client"
   ]
  },
  {
   "cell_type": "code",
   "execution_count": 5,
   "id": "018a4bab-5b4f-445d-ad30-287f3b42f09b",
   "metadata": {},
   "outputs": [],
   "source": [
    "# libraries to read data\n",
    "import numpy as np\n",
    "import pandas as pd\n",
    "# libraries to model data\n",
    "\n",
    "# libraries to connect to your google spreadsheet\n",
    "import gspread\n",
    "from oauth2client.service_account import ServiceAccountCredentials\n"
   ]
  },
  {
   "cell_type": "markdown",
   "id": "79f590a2-d526-43fb-a391-33fb1650fb42",
   "metadata": {},
   "source": [
    "## Collect data from the google spreadsheet"
   ]
  },
  {
   "cell_type": "code",
   "execution_count": 6,
   "id": "20b12421-7f15-46ee-b211-0a42f8a4bee0",
   "metadata": {},
   "outputs": [],
   "source": [
    "def get_historicalData():\n",
    "    #Create the connection to the the desired Google Sheet and insert into a dataframe\n",
    "    scope = ['https://spreadsheets.google.com/feeds','https://www.googleapis.com/auth/drive']\n",
    "    # credentials are stored in the file that you downloaded from the console\n",
    "    creds = ServiceAccountCredentials.from_json_keyfile_name('keys/project-x-brussels-f1632aa573cd.json', scope)\n",
    "    client = gspread.authorize(creds)\n",
    "    # here you need to insert the ID of the G-Sheets file. That can be copied from the navigation bar in your browser \n",
    "    sheetfile =  client.open_by_key('1_xKwVFweaXgAMwN9tPtccTPfxgUvCKM-3ViSp5c3LpM')\n",
    "    \n",
    "    sheet = sheetfile.get_worksheet(0) # first worksheet in the G-Sheets file\n",
    "    data = sheet.get_all_values()\n",
    "    headers = data.pop(0)\n",
    "    df = pd.DataFrame(data, columns=headers)\n",
    "    return df"
   ]
  },
  {
   "cell_type": "code",
   "execution_count": 7,
   "id": "decc24d4-8bf3-41a6-a3c6-280f2c805632",
   "metadata": {},
   "outputs": [],
   "source": [
    "# create a Pandas dataframe from Google sheets\n",
    "\n",
    "df_hist = get_historicalData()"
   ]
  },
  {
   "cell_type": "code",
   "execution_count": 10,
   "id": "e868bd88-2807-4cd9-b90f-8bbe3acc31a8",
   "metadata": {},
   "outputs": [
    {
     "data": {
      "text/html": [
       "<div>\n",
       "<style scoped>\n",
       "    .dataframe tbody tr th:only-of-type {\n",
       "        vertical-align: middle;\n",
       "    }\n",
       "\n",
       "    .dataframe tbody tr th {\n",
       "        vertical-align: top;\n",
       "    }\n",
       "\n",
       "    .dataframe thead th {\n",
       "        text-align: right;\n",
       "    }\n",
       "</style>\n",
       "<table border=\"1\" class=\"dataframe\">\n",
       "  <thead>\n",
       "    <tr style=\"text-align: right;\">\n",
       "      <th></th>\n",
       "      <th>date</th>\n",
       "      <th>rate confirmed</th>\n",
       "      <th>acc_test</th>\n",
       "      <th>acc_negative</th>\n",
       "      <th>acc_confirmed</th>\n",
       "      <th>acc_released</th>\n",
       "      <th>acc_deceased</th>\n",
       "      <th>new_test</th>\n",
       "      <th>new_negative</th>\n",
       "      <th>new_confirmed</th>\n",
       "      <th>new_released</th>\n",
       "      <th>new_deceased</th>\n",
       "    </tr>\n",
       "  </thead>\n",
       "  <tbody>\n",
       "    <tr>\n",
       "      <th>39</th>\n",
       "      <td>02/28/20</td>\n",
       "      <td>813</td>\n",
       "      <td>81167</td>\n",
       "      <td>48593</td>\n",
       "      <td>2337</td>\n",
       "      <td>27</td>\n",
       "      <td>13</td>\n",
       "      <td>14515</td>\n",
       "      <td>9275</td>\n",
       "      <td>571</td>\n",
       "      <td>1</td>\n",
       "      <td>0</td>\n",
       "    </tr>\n",
       "    <tr>\n",
       "      <th>40</th>\n",
       "      <td>02/29/20</td>\n",
       "      <td>586</td>\n",
       "      <td>94055</td>\n",
       "      <td>55723</td>\n",
       "      <td>3150</td>\n",
       "      <td>28</td>\n",
       "      <td>17</td>\n",
       "      <td>12888</td>\n",
       "      <td>7130</td>\n",
       "      <td>813</td>\n",
       "      <td>1</td>\n",
       "      <td>4</td>\n",
       "    </tr>\n",
       "    <tr>\n",
       "      <th>41</th>\n",
       "      <td>03/01/20</td>\n",
       "      <td>476</td>\n",
       "      <td>98921</td>\n",
       "      <td>61825</td>\n",
       "      <td>3736</td>\n",
       "      <td>30</td>\n",
       "      <td>18</td>\n",
       "      <td>4866</td>\n",
       "      <td>6102</td>\n",
       "      <td>586</td>\n",
       "      <td>2</td>\n",
       "      <td>1</td>\n",
       "    </tr>\n",
       "    <tr>\n",
       "      <th>42</th>\n",
       "      <td>03/02/20</td>\n",
       "      <td>600</td>\n",
       "      <td>109591</td>\n",
       "      <td>71580</td>\n",
       "      <td>4212</td>\n",
       "      <td>31</td>\n",
       "      <td>22</td>\n",
       "      <td>10670</td>\n",
       "      <td>9755</td>\n",
       "      <td>476</td>\n",
       "      <td>1</td>\n",
       "      <td>4</td>\n",
       "    </tr>\n",
       "    <tr>\n",
       "      <th>43</th>\n",
       "      <td>03/03/20</td>\n",
       "      <td>516</td>\n",
       "      <td>125851</td>\n",
       "      <td>85484</td>\n",
       "      <td>4812</td>\n",
       "      <td>34</td>\n",
       "      <td>28</td>\n",
       "      <td>16260</td>\n",
       "      <td>13904</td>\n",
       "      <td>600</td>\n",
       "      <td>3</td>\n",
       "      <td>6</td>\n",
       "    </tr>\n",
       "  </tbody>\n",
       "</table>\n",
       "</div>"
      ],
      "text/plain": [
       "        date rate confirmed acc_test acc_negative acc_confirmed acc_released  \\\n",
       "39  02/28/20            813    81167        48593          2337           27   \n",
       "40  02/29/20            586    94055        55723          3150           28   \n",
       "41  03/01/20            476    98921        61825          3736           30   \n",
       "42  03/02/20            600   109591        71580          4212           31   \n",
       "43  03/03/20            516   125851        85484          4812           34   \n",
       "\n",
       "   acc_deceased new_test new_negative new_confirmed new_released new_deceased  \n",
       "39           13    14515         9275           571            1            0  \n",
       "40           17    12888         7130           813            1            4  \n",
       "41           18     4866         6102           586            2            1  \n",
       "42           22    10670         9755           476            1            4  \n",
       "43           28    16260        13904           600            3            6  "
      ]
     },
     "execution_count": 10,
     "metadata": {},
     "output_type": "execute_result"
    }
   ],
   "source": [
    "df_hist.tail()"
   ]
  },
  {
   "cell_type": "markdown",
   "id": "0700a40a-1b5a-48f6-b51e-4e3776bf9bfc",
   "metadata": {},
   "source": [
    "## Append data from a file on your local drive"
   ]
  },
  {
   "cell_type": "code",
   "execution_count": 14,
   "id": "95b8c889-5df2-45ce-bc29-771f0d9a91a0",
   "metadata": {},
   "outputs": [
    {
     "data": {
      "text/html": [
       "<div>\n",
       "<style scoped>\n",
       "    .dataframe tbody tr th:only-of-type {\n",
       "        vertical-align: middle;\n",
       "    }\n",
       "\n",
       "    .dataframe tbody tr th {\n",
       "        vertical-align: top;\n",
       "    }\n",
       "\n",
       "    .dataframe thead th {\n",
       "        text-align: right;\n",
       "    }\n",
       "</style>\n",
       "<table border=\"1\" class=\"dataframe\">\n",
       "  <thead>\n",
       "    <tr style=\"text-align: right;\">\n",
       "      <th></th>\n",
       "      <th>date</th>\n",
       "      <th>rate confirmed</th>\n",
       "      <th>acc_test</th>\n",
       "      <th>acc_negative</th>\n",
       "      <th>acc_confirmed</th>\n",
       "      <th>acc_released</th>\n",
       "      <th>acc_deceased</th>\n",
       "      <th>new_test</th>\n",
       "      <th>new_negative</th>\n",
       "      <th>new_confirmed</th>\n",
       "      <th>new_released</th>\n",
       "      <th>new_deceased</th>\n",
       "    </tr>\n",
       "  </thead>\n",
       "  <tbody>\n",
       "    <tr>\n",
       "      <th>0</th>\n",
       "      <td>03/04/20</td>\n",
       "      <td>438</td>\n",
       "      <td>136707</td>\n",
       "      <td>102965</td>\n",
       "      <td>5328</td>\n",
       "      <td>41</td>\n",
       "      <td>32</td>\n",
       "      <td>10856</td>\n",
       "      <td>17481</td>\n",
       "      <td>516</td>\n",
       "      <td>7</td>\n",
       "      <td>4</td>\n",
       "    </tr>\n",
       "    <tr>\n",
       "      <th>1</th>\n",
       "      <td>03/05/20</td>\n",
       "      <td>518</td>\n",
       "      <td>146541</td>\n",
       "      <td>118965</td>\n",
       "      <td>5766</td>\n",
       "      <td>88</td>\n",
       "      <td>35</td>\n",
       "      <td>9834</td>\n",
       "      <td>16000</td>\n",
       "      <td>438</td>\n",
       "      <td>47</td>\n",
       "      <td>3</td>\n",
       "    </tr>\n",
       "  </tbody>\n",
       "</table>\n",
       "</div>"
      ],
      "text/plain": [
       "       date  rate confirmed  acc_test  acc_negative  acc_confirmed  \\\n",
       "0  03/04/20             438    136707        102965           5328   \n",
       "1  03/05/20             518    146541        118965           5766   \n",
       "\n",
       "   acc_released  acc_deceased  new_test  new_negative  new_confirmed  \\\n",
       "0            41            32     10856         17481            516   \n",
       "1            88            35      9834         16000            438   \n",
       "\n",
       "   new_released  new_deceased  \n",
       "0             7             4  \n",
       "1            47             3  "
      ]
     },
     "execution_count": 14,
     "metadata": {},
     "output_type": "execute_result"
    }
   ],
   "source": [
    "# get data to append from a local file\n",
    "df_recentdata = pd.read_csv('logfile.csv').fillna(0)\n",
    "df_recentdata.head()"
   ]
  },
  {
   "cell_type": "code",
   "execution_count": 15,
   "id": "46c3f9a2-ad4b-4f5d-b797-aa385281101c",
   "metadata": {},
   "outputs": [],
   "source": [
    "spreadsheetId = '1_xKwVFweaXgAMwN9tPtccTPfxgUvCKM-3ViSp5c3LpM'  # Please set the Spreadsheet ID.\n",
    "sheetName = 'data'\n",
    "\n",
    "def append_DFvalues_gspreadsheet(df, spreadsheetId, sheetName):\n",
    "  scope = ['https://spreadsheets.google.com/feeds','https://www.googleapis.com/auth/drive']\n",
    "  creds = ServiceAccountCredentials.from_json_keyfile_name('keys/project-x-brussels-f1632aa573cd.json', scope)\n",
    "  client = gspread.authorize(creds)\n",
    "  sh = client.open_by_key(spreadsheetId)\n",
    "\n",
    "  values = df.values.tolist()\n",
    "  return sh.values_append(sheetName, {'valueInputOption': 'USER_ENTERED'}, {'values': values})"
   ]
  },
  {
   "cell_type": "code",
   "execution_count": 16,
   "id": "9387c1a4-feea-410b-bd7a-acf7aadedc68",
   "metadata": {},
   "outputs": [
    {
     "data": {
      "text/plain": [
       "{'spreadsheetId': '1_xKwVFweaXgAMwN9tPtccTPfxgUvCKM-3ViSp5c3LpM',\n",
       " 'tableRange': 'data!A1:L45',\n",
       " 'updates': {'spreadsheetId': '1_xKwVFweaXgAMwN9tPtccTPfxgUvCKM-3ViSp5c3LpM',\n",
       "  'updatedRange': 'data!A46:L47',\n",
       "  'updatedRows': 2,\n",
       "  'updatedColumns': 12,\n",
       "  'updatedCells': 24}}"
      ]
     },
     "execution_count": 16,
     "metadata": {},
     "output_type": "execute_result"
    }
   ],
   "source": [
    "append_DFvalues_gspreadsheet(df_recentdata, spreadsheetId, sheetName)"
   ]
  },
  {
   "cell_type": "code",
   "execution_count": 23,
   "id": "3f7af353-ca72-4458-bb90-e03a38846b1e",
   "metadata": {},
   "outputs": [],
   "source": [
    "df_stats = pd.DataFrame(df_hist['date'].tolist(), columns = ['date'])\n"
   ]
  },
  {
   "cell_type": "code",
   "execution_count": 29,
   "id": "11305fd0-659b-465a-a1c6-de6f963923e4",
   "metadata": {},
   "outputs": [],
   "source": [
    "df_stats ['rate_infection'] = df_hist['new_confirmed'].astype('int')/df_hist['new_test'].astype('int')\n",
    "df_stats = df_stats.fillna(0)"
   ]
  },
  {
   "cell_type": "code",
   "execution_count": 30,
   "id": "6d2e1262-28f8-44df-9310-1c2b7dff4654",
   "metadata": {},
   "outputs": [],
   "source": [
    "def update_DFvalues_gspreadsheet(df, spreadsheetId, sheetName):\n",
    "  scope = ['https://spreadsheets.google.com/feeds','https://www.googleapis.com/auth/drive']\n",
    "  creds = ServiceAccountCredentials.from_json_keyfile_name('keys/project-x-brussels-f1632aa573cd.json', scope)\n",
    "  client = gspread.authorize(creds)\n",
    "  sh = client.open_by_key(spreadsheetId)\n",
    "\n",
    "  values = df.values.tolist()\n",
    "  values[0] = df.columns.values.tolist() #add headers\n",
    "\n",
    "  return sh.values_update(sheetName, {'valueInputOption': 'USER_ENTERED'}, {'values': values})\n"
   ]
  },
  {
   "cell_type": "code",
   "execution_count": 31,
   "id": "553b25c4-ce93-4b4a-8506-9a4c046e205b",
   "metadata": {},
   "outputs": [
    {
     "data": {
      "text/plain": [
       "{'spreadsheetId': '1_xKwVFweaXgAMwN9tPtccTPfxgUvCKM-3ViSp5c3LpM',\n",
       " 'updatedRange': 'metrics!A1:B44',\n",
       " 'updatedRows': 44,\n",
       " 'updatedColumns': 2,\n",
       " 'updatedCells': 88}"
      ]
     },
     "execution_count": 31,
     "metadata": {},
     "output_type": "execute_result"
    }
   ],
   "source": [
    "sheetName = 'metrics'\n",
    "update_DFvalues_gspreadsheet(df_stats, spreadsheetId, sheetName)"
   ]
  },
  {
   "cell_type": "code",
   "execution_count": 32,
   "id": "e339a1a7-370d-413b-ac94-bdc7ef69588a",
   "metadata": {},
   "outputs": [
    {
     "data": {
      "text/plain": [
       "[['01/20/20', 1.0],\n",
       " ['01/21/20', 0.0],\n",
       " ['01/22/20', 0.0],\n",
       " ['01/23/20', 0.0],\n",
       " ['01/24/20', 0.2],\n",
       " ['01/25/20', 0.0],\n",
       " ['01/26/20', 0.041666666666666664],\n",
       " ['01/27/20', 0.1],\n",
       " ['01/28/20', 0.0],\n",
       " ['01/29/20', 0.0],\n",
       " ['01/30/20', 0.03389830508474576],\n",
       " ['01/31/20', 0.07575757575757576],\n",
       " ['02/01/20', 0.01694915254237288],\n",
       " ['02/02/20', 0.05172413793103448],\n",
       " ['02/03/20', 0.0],\n",
       " ['02/04/20', 0.008547008547008548],\n",
       " ['02/05/20', 0.018691588785046728],\n",
       " ['02/06/20', 0.029239766081871343],\n",
       " ['02/07/20', 0.0021413276231263384],\n",
       " ['02/08/20', 0.0],\n",
       " ['02/09/20', 0.005988023952095809],\n",
       " ['02/10/20', 0.0],\n",
       " ['02/11/20', 0.0008230452674897119],\n",
       " ['02/12/20', 0.0],\n",
       " ['02/13/20', 0.0],\n",
       " ['02/14/20', 0.0],\n",
       " ['02/15/20', 0.0],\n",
       " ['02/16/20', 0.00234192037470726],\n",
       " ['02/17/20', 0.0017953321364452424],\n",
       " ['02/18/20', 0.0009487666034155598],\n",
       " ['02/19/20', 0.014275517487508922],\n",
       " ['02/20/20', 0.026121241991128634],\n",
       " ['02/21/20', 0.031269543464665414],\n",
       " ['02/22/20', 0.04415734670266101],\n",
       " ['02/23/20', 0.03679512301328108],\n",
       " ['02/24/20', 0.03512239622928387],\n",
       " ['02/25/20', 0.019077901430842606],\n",
       " ['02/26/20', 0.021435580043776888],\n",
       " ['02/27/20', 0.038552561264218646],\n",
       " ['02/28/20', 0.03933861522562866],\n",
       " ['02/29/20', 0.06308193668528864],\n",
       " ['03/01/20', 0.12042745581586518],\n",
       " ['03/02/20', 0.04461105904404873],\n",
       " ['03/03/20', 0.03690036900369004]]"
      ]
     },
     "execution_count": 32,
     "metadata": {},
     "output_type": "execute_result"
    }
   ],
   "source": [
    "df_stats.values.tolist()"
   ]
  },
  {
   "cell_type": "code",
   "execution_count": null,
   "id": "9dfb8cc5-f626-4e49-82e6-5e1b17092984",
   "metadata": {},
   "outputs": [],
   "source": []
  }
 ],
 "metadata": {
  "kernelspec": {
   "display_name": "Python 3 (ipykernel)",
   "language": "python",
   "name": "python3"
  },
  "language_info": {
   "codemirror_mode": {
    "name": "ipython",
    "version": 3
   },
   "file_extension": ".py",
   "mimetype": "text/x-python",
   "name": "python",
   "nbconvert_exporter": "python",
   "pygments_lexer": "ipython3",
   "version": "3.9.12"
  }
 },
 "nbformat": 4,
 "nbformat_minor": 5
}
